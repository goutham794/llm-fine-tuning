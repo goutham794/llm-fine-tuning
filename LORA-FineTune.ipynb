{
 "cells": [
  {
   "cell_type": "code",
   "execution_count": null,
   "id": "d9ac721e-42b8-45b6-95e5-5d3e624859b6",
   "metadata": {
    "tags": []
   },
   "outputs": [],
   "source": [
    "%pip install -r requirements.txt"
   ]
  },
  {
   "cell_type": "code",
   "execution_count": null,
   "id": "6a74c73b-26d7-4924-863a-b8b045bbd2e6",
   "metadata": {
    "tags": []
   },
   "outputs": [],
   "source": [
    "%pip install \"unsloth[cu121-ampere] @ git+https://github.com/unslothai/unsloth.git\"\n",
    "# %pip install \"unsloth[cu121_torch220] @ git+https://github.com/unslothai/unsloth.git\""
   ]
  },
  {
   "cell_type": "code",
   "execution_count": 1,
   "id": "3e537119-4068-4264-92f9-435b30103e37",
   "metadata": {
    "tags": []
   },
   "outputs": [],
   "source": [
    "from lora import Lora_FineTuner"
   ]
  },
  {
   "cell_type": "code",
   "execution_count": 2,
   "id": "afa2293c-4f55-4972-8ecf-575f04cf3b81",
   "metadata": {
    "tags": []
   },
   "outputs": [],
   "source": [
    "bucket='llm-storage-bucket'\n",
    "data_key = 'Cosmetics_dataset_0.8/'\n",
    "dataset_path = 's3://{}/{}'.format(bucket, data_key)\n",
    "\n",
    "# dataset_path = 'Cosmetics_dataset_0.8/'"
   ]
  },
  {
   "cell_type": "code",
   "execution_count": 3,
   "id": "7efc90a6-3831-4b3d-b614-0b27cce0f1a5",
   "metadata": {
    "tags": []
   },
   "outputs": [
    {
     "name": "stderr",
     "output_type": "stream",
     "text": [
      "/home/ec2-user/anaconda3/envs/pytorch_p310/lib/python3.10/site-packages/fsspec/registry.py:272: UserWarning: Your installed version of s3fs is very old and known to cause\n",
      "severe performance issues, see also https://github.com/dask/dask/issues/10276\n",
      "\n",
      "To fix, you should specify a lower version bound on s3fs, or\n",
      "update the current installation.\n",
      "\n",
      "  warnings.warn(s3_msg)\n"
     ]
    },
    {
     "name": "stdout",
     "output_type": "stream",
     "text": [
      "==((====))==  Unsloth: Fast Mistral patching release 2024.3\n",
      "   \\\\   /|    GPU: Tesla T4. Max memory: 14.748 GB. Platform = Linux.\n",
      "O^O/ \\_/ \\    Pytorch: 2.1.0. CUDA = 7.5. CUDA Toolkit = 12.1.\n",
      "\\        /    Bfloat16 = FALSE. Xformers = 0.0.22.post7. FA = False.\n",
      " \"-____-\"     Free Apache license: http://github.com/unslothai/unsloth\n"
     ]
    },
    {
     "name": "stderr",
     "output_type": "stream",
     "text": [
      "You set `add_prefix_space`. The tokenizer needs to be converted from the slow tokenizers\n",
      "Unsloth 2024.3 patched 32 layers with 32 QKV layers, 32 O layers and 32 MLP layers.\n"
     ]
    }
   ],
   "source": [
    "llm_trainer = Lora_FineTuner(dataset=dataset_path,\n",
    "                             # model_name=\"unsloth/mistral-7b-instruct-v0.2-bnb-4bit\",\n",
    "                             model_name = \"unsloth/mistral-7b-v0.2-bnb-4bit\",\n",
    "                             lora_rank=64,\n",
    "                             rs_lora=True,\n",
    "                             max_seq_length=140\n",
    "                             )"
   ]
  },
  {
   "cell_type": "code",
   "execution_count": null,
   "id": "0fffaff2-8c8f-4083-aa75-a50ca9028d94",
   "metadata": {
    "tags": []
   },
   "outputs": [
    {
     "data": {
      "application/vnd.jupyter.widget-view+json": {
       "model_id": "14dc2afa8b9a4299bd032dcfbee34e75",
       "version_major": 2,
       "version_minor": 0
      },
      "text/plain": [
       "Map (num_proc=2):   0%|          | 0/9436 [00:00<?, ? examples/s]"
      ]
     },
     "metadata": {},
     "output_type": "display_data"
    },
    {
     "data": {
      "application/vnd.jupyter.widget-view+json": {
       "model_id": "f071dd53367646fc9ec3c6f61bac8af6",
       "version_major": 2,
       "version_minor": 0
      },
      "text/plain": [
       "Map (num_proc=2):   0%|          | 0/2442 [00:00<?, ? examples/s]"
      ]
     },
     "metadata": {},
     "output_type": "display_data"
    },
    {
     "name": "stderr",
     "output_type": "stream",
     "text": [
      "==((====))==  Unsloth - 2x faster free finetuning | Num GPUs = 1\n",
      "   \\\\   /|    Num examples = 9,436 | Num Epochs = 3\n",
      "O^O/ \\_/ \\    Batch size per device = 16 | Gradient Accumulation steps = 4\n",
      "\\        /    Total batch size = 64 | Total steps = 441\n",
      " \"-____-\"     Number of trainable parameters = 167,772,160\n",
      "Failed to detect the name of this notebook, you can set it manually with the WANDB_NOTEBOOK_NAME environment variable to enable code saving.\n",
      "\u001b[34m\u001b[1mwandb\u001b[0m: Currently logged in as: \u001b[33mgoutham_city\u001b[0m. Use \u001b[1m`wandb login --relogin`\u001b[0m to force relogin\n"
     ]
    },
    {
     "data": {
      "text/html": [
       "Tracking run with wandb version 0.16.5"
      ],
      "text/plain": [
       "<IPython.core.display.HTML object>"
      ]
     },
     "metadata": {},
     "output_type": "display_data"
    },
    {
     "data": {
      "text/html": [
       "Run data is saved locally in <code>/home/ec2-user/SageMaker/llm-fine-tuning/wandb/run-20240328_093527-mg7k5zca</code>"
      ],
      "text/plain": [
       "<IPython.core.display.HTML object>"
      ]
     },
     "metadata": {},
     "output_type": "display_data"
    },
    {
     "data": {
      "text/html": [
       "Syncing run <strong><a href='https://wandb.ai/goutham_city/huggingface/runs/mg7k5zca/workspace' target=\"_blank\">fine-hill-51</a></strong> to <a href='https://wandb.ai/goutham_city/huggingface' target=\"_blank\">Weights & Biases</a> (<a href='https://wandb.me/run' target=\"_blank\">docs</a>)<br/>"
      ],
      "text/plain": [
       "<IPython.core.display.HTML object>"
      ]
     },
     "metadata": {},
     "output_type": "display_data"
    },
    {
     "data": {
      "text/html": [
       " View project at <a href='https://wandb.ai/goutham_city/huggingface' target=\"_blank\">https://wandb.ai/goutham_city/huggingface</a>"
      ],
      "text/plain": [
       "<IPython.core.display.HTML object>"
      ]
     },
     "metadata": {},
     "output_type": "display_data"
    },
    {
     "data": {
      "text/html": [
       " View run at <a href='https://wandb.ai/goutham_city/huggingface/runs/mg7k5zca/workspace' target=\"_blank\">https://wandb.ai/goutham_city/huggingface/runs/mg7k5zca/workspace</a>"
      ],
      "text/plain": [
       "<IPython.core.display.HTML object>"
      ]
     },
     "metadata": {},
     "output_type": "display_data"
    },
    {
     "data": {
      "text/html": [
       "\n",
       "    <div>\n",
       "      \n",
       "      <progress value='101' max='441' style='width:300px; height:20px; vertical-align: middle;'></progress>\n",
       "      [101/441 29:00 < 1:39:38, 0.06 it/s, Epoch 0.68/3]\n",
       "    </div>\n",
       "    <table border=\"1\" class=\"dataframe\">\n",
       "  <thead>\n",
       " <tr style=\"text-align: left;\">\n",
       "      <th>Step</th>\n",
       "      <th>Training Loss</th>\n",
       "      <th>Validation Loss</th>\n",
       "    </tr>\n",
       "  </thead>\n",
       "  <tbody>\n",
       "    <tr>\n",
       "      <td>50</td>\n",
       "      <td>1.106400</td>\n",
       "      <td>1.015433</td>\n",
       "    </tr>\n",
       "  </tbody>\n",
       "</table><p>\n",
       "    <div>\n",
       "      \n",
       "      <progress value='784' max='2442' style='width:300px; height:20px; vertical-align: middle;'></progress>\n",
       "      [ 784/2442 03:01 < 06:23, 4.32 it/s]\n",
       "    </div>\n",
       "    "
      ],
      "text/plain": [
       "<IPython.core.display.HTML object>"
      ]
     },
     "metadata": {},
     "output_type": "display_data"
    }
   ],
   "source": [
    "llm_trainer.train(n_epochs=3, \n",
    "                  device_batch_size=16, \n",
    "                  save_steps= 50,\n",
    "                  eval_steps=50,\n",
    "                  resume = False,\n",
    "                  # n_rows=250,\n",
    "                 )"
   ]
  },
  {
   "cell_type": "markdown",
   "id": "4ab08252-b4ce-4572-a03c-7945e2092bec",
   "metadata": {},
   "source": [
    "### Saving for VLLM"
   ]
  },
  {
   "cell_type": "code",
   "execution_count": 5,
   "id": "2d91a766-032f-43b0-b5cb-1eeccd2cb1f7",
   "metadata": {
    "tags": []
   },
   "outputs": [],
   "source": [
    "import datetime\n",
    "now = datetime.datetime.now()"
   ]
  },
  {
   "cell_type": "code",
   "execution_count": 6,
   "id": "2e01ae9a-dc14-4d6c-aa19-f793bd988b33",
   "metadata": {
    "tags": []
   },
   "outputs": [],
   "source": [
    "model_save_path_16bit = f\"Cosmetics_Expert_{now.strftime('%Y-%m-%d_%H%M%S')}\""
   ]
  },
  {
   "cell_type": "code",
   "execution_count": 7,
   "id": "2b7763fe-2278-4bbb-9bf5-5a3ad204ae28",
   "metadata": {
    "tags": []
   },
   "outputs": [
    {
     "name": "stderr",
     "output_type": "stream",
     "text": [
      "Unsloth: You have 2 CPUs. Using `safe_serialization` is 10x slower.\n",
      "We shall switch to Pytorch saving, which will take 3 minutes and not 30 minutes.\n",
      "To force `safe_serialization`, set it to `None` instead.\n"
     ]
    },
    {
     "name": "stdout",
     "output_type": "stream",
     "text": [
      "Unsloth: Merging 4bit and LoRA weights to 16bit...\n",
      "Unsloth: Will use up to 8.69 out of 15.32 RAM for saving.\n"
     ]
    },
    {
     "name": "stderr",
     "output_type": "stream",
     "text": [
      " 50%|█████     | 16/32 [00:00<00:00, 25.69it/s]We will save to Disk and not RAM now.\n",
      "100%|██████████| 32/32 [00:49<00:00,  1.55s/it]\n"
     ]
    },
    {
     "name": "stdout",
     "output_type": "stream",
     "text": [
      "Unsloth: Saving tokenizer... Done.\n",
      "Unsloth: Saving model... This might take 5 minutes for Llama-7b...\n",
      "Unsloth: Saving Cosmetics_Expert_2024-03-25_162452/pytorch_model-00001-of-00003.bin...\n",
      "Unsloth: Saving Cosmetics_Expert_2024-03-25_162452/pytorch_model-00002-of-00003.bin...\n",
      "Unsloth: Saving Cosmetics_Expert_2024-03-25_162452/pytorch_model-00003-of-00003.bin...\n",
      "Done.\n"
     ]
    }
   ],
   "source": [
    "llm_trainer.model.save_pretrained_merged(model_save_path_16bit, llm_trainer.tokenizer, save_method = \"merged_16bit\",)"
   ]
  },
  {
   "cell_type": "code",
   "execution_count": null,
   "id": "3621e72b-5551-48d3-98a1-aea2454dba75",
   "metadata": {},
   "outputs": [],
   "source": []
  },
  {
   "cell_type": "markdown",
   "id": "fe644bf7-2659-42ae-b97e-77bfe3daf3d3",
   "metadata": {},
   "source": [
    "### Upload to S3"
   ]
  },
  {
   "cell_type": "code",
   "execution_count": 8,
   "id": "4ea67aee-70c6-4fa1-9849-c16f328be6d7",
   "metadata": {
    "tags": []
   },
   "outputs": [],
   "source": [
    "import boto3\n",
    "import os"
   ]
  },
  {
   "cell_type": "code",
   "execution_count": 9,
   "id": "6d3a737f-26c1-47d5-bcd4-6db3d78f35d5",
   "metadata": {
    "tags": []
   },
   "outputs": [],
   "source": [
    "session = boto3.Session()"
   ]
  },
  {
   "cell_type": "code",
   "execution_count": 10,
   "id": "55ce8517-6c02-4606-bc5f-171082697616",
   "metadata": {
    "tags": []
   },
   "outputs": [],
   "source": [
    "models_key = f\"Models/{model_save_path_16bit}/\"\n",
    "model_to_upload = f\"./{model_save_path_16bit}/\""
   ]
  },
  {
   "cell_type": "code",
   "execution_count": 11,
   "id": "28708e0b-a270-4d3c-ae3f-68685bfc6544",
   "metadata": {
    "tags": []
   },
   "outputs": [],
   "source": [
    "for file in os.listdir(model_to_upload):\n",
    "    file_path = os.path.join(model_to_upload, file)\n",
    "    if os.path.isfile(file_path):\n",
    "        # Upload the file to S3\n",
    "        session.resource('s3').Bucket(bucket).Object(os.path.join(models_key, file)).upload_file(file_path)\n"
   ]
  },
  {
   "cell_type": "code",
   "execution_count": null,
   "id": "04004e96-77bc-4f7e-9ea7-ffa383a3726f",
   "metadata": {},
   "outputs": [],
   "source": [
    "1+1"
   ]
  }
 ],
 "metadata": {
  "kernelspec": {
   "display_name": "conda_pytorch_p310",
   "language": "python",
   "name": "conda_pytorch_p310"
  },
  "language_info": {
   "codemirror_mode": {
    "name": "ipython",
    "version": 3
   },
   "file_extension": ".py",
   "mimetype": "text/x-python",
   "name": "python",
   "nbconvert_exporter": "python",
   "pygments_lexer": "ipython3",
   "version": "3.10.13"
  }
 },
 "nbformat": 4,
 "nbformat_minor": 5
}
