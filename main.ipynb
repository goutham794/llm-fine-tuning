{
 "cells": [
  {
   "cell_type": "code",
   "execution_count": 3,
   "metadata": {},
   "outputs": [],
   "source": [
    "from unsloth import FastLanguageModel\n",
    "from datasets import load_from_disk\n",
    "from trl import SFTTrainer\n",
    "from transformers import TrainingArguments\n",
    "import torch\n",
    "import wandb"
   ]
  },
  {
   "cell_type": "code",
   "execution_count": 12,
   "metadata": {},
   "outputs": [],
   "source": [
    "class Lora_FineTuner:\n",
    "    \"\"\"\n",
    "    QLORA Fine-tuning using Unsloth, Huggingface Transformers.\n",
    "    \"\"\"\n",
    "    \n",
    "    def __init__(self, dataset, model_name: str, max_seq_length: int, \n",
    "                 load_in_4bit: bool = True, wandb_track: bool = True) -> None:\n",
    "        self.model_name = model_name\n",
    "        self.dataset = load_from_disk(dataset)\n",
    "        self.max_seq_length = max_seq_length\n",
    "        self.load_in_4bit = load_in_4bit\n",
    "        if wandb_track: self._setup_wandb()\n",
    "        self._setup_model_and_tokenizer()\n",
    "    \n",
    "    def _setup_wandb(self):\n",
    "        pass\n",
    "        \n",
    "    \n",
    "    def _setup_model_and_tokenizer(self):\n",
    "        model, self.tokenizer = FastLanguageModel.from_pretrained(\n",
    "        model_name = self.model_name, \n",
    "        max_seq_length = self.max_seq_length,\n",
    "        dtype = None,\n",
    "        load_in_4bit = self.load_in_4bit,\n",
    "        )\n",
    "\n",
    "        self.model = FastLanguageModel.get_peft_model(\n",
    "            model,\n",
    "            r = 16, # Choose any number > 0 ! Suggested 8, 16, 32, 64, 128\n",
    "            target_modules = [\"q_proj\", \"k_proj\", \"v_proj\", \"o_proj\",\n",
    "                            \"gate_proj\", \"up_proj\", \"down_proj\",],\n",
    "            lora_alpha = 16,\n",
    "            lora_dropout = 0, # Supports any, but = 0 is optimized\n",
    "            bias = \"none\",    # Supports any, but = \"none\" is optimized\n",
    "            use_gradient_checkpointing = True,\n",
    "            random_state = 3407,\n",
    "            use_rslora = False,\n",
    "            loftq_config = None,\n",
    "        )\n",
    "    \n",
    "    def _setup_trainer(self):\n",
    "        self.trainer = SFTTrainer(\n",
    "            model = self.model,\n",
    "            tokenizer = self.tokenizer,\n",
    "            train_dataset = self.dataset['train'],\n",
    "            eval_dataset = self.dataset['eval'],\n",
    "            dataset_text_field = \"text\",\n",
    "            max_seq_length = self.max_seq_length,\n",
    "            dataset_num_proc = 2,\n",
    "            packing = False, # Can make training 5x faster for short sequences.\n",
    "            args = TrainingArguments(\n",
    "                per_device_train_batch_size = 2,\n",
    "                gradient_accumulation_steps = 4,\n",
    "                warmup_steps = 5,\n",
    "                learning_rate = 2e-4,\n",
    "                num_train_epochs=2,\n",
    "                fp16 = not torch.cuda.is_bf16_supported(),\n",
    "                bf16 = torch.cuda.is_bf16_supported(),\n",
    "                logging_steps = 500,\n",
    "                optim = \"adamw_8bit\",\n",
    "                weight_decay = 0.01,\n",
    "                eval_steps=1000,\n",
    "                do_eval = True,\n",
    "                lr_scheduler_type = \"linear\",\n",
    "                seed = 3407,\n",
    "                report_to = \"wandb\",\n",
    "                output_dir = \"outputs\",\n",
    "            ),\n",
    "        )\n",
    "    \n",
    "    def train(self):\n",
    "        self._setup_trainer()\n",
    "        trainer_stats = self.trainer.train()\n"
   ]
  },
  {
   "cell_type": "code",
   "execution_count": 13,
   "metadata": {},
   "outputs": [
    {
     "data": {
      "text/plain": [
       "True"
      ]
     },
     "execution_count": 13,
     "metadata": {},
     "output_type": "execute_result"
    }
   ],
   "source": [
    "wandb.login()"
   ]
  },
  {
   "cell_type": "code",
   "execution_count": 14,
   "metadata": {},
   "outputs": [
    {
     "name": "stdout",
     "output_type": "stream",
     "text": [
      "==((====))==  Unsloth: Fast Mistral patching release 2024.2\n",
      "   \\\\   /|    GPU: NVIDIA RTX A4000. Max memory: 15.731 GB. Platform = Linux.\n",
      "O^O/ \\_/ \\    Pytorch: 2.2.0+cu121. CUDA = 8.6. CUDA Toolkit = 12.1.\n",
      "\\        /    Bfloat16 = TRUE. Xformers = 0.0.24. FA = False.\n",
      " \"-____-\"     Apache 2 free license: http://github.com/unslothai/unsloth\n"
     ]
    },
    {
     "name": "stderr",
     "output_type": "stream",
     "text": [
      "/workspace/llm-fine-tuning/venv/lib/python3.10/site-packages/transformers/quantizers/auto.py:155: UserWarning: You passed `quantization_config` or equivalent parameters to `from_pretrained` but the model you're loading already has a `quantization_config` attribute. The `quantization_config` from the model will be used.\n",
      "  warnings.warn(warning_msg)\n",
      "Unsloth 2024.2 patched 32 layers with 32 QKV layers, 32 O layers and 32 MLP layers.\n"
     ]
    }
   ],
   "source": [
    "llm_trainer = Lora_FineTuner(dataset=\"arcelik_segmentation_data_sample\",\n",
    "                             model_name=\"unsloth/mistral-7b-instruct-v0.2-bnb-4bit\",\n",
    "                             max_seq_length=130\n",
    "                             )"
   ]
  },
  {
   "cell_type": "code",
   "execution_count": 15,
   "metadata": {},
   "outputs": [
    {
     "name": "stderr",
     "output_type": "stream",
     "text": [
      "Map (num_proc=2): 100%|██████████| 84/84 [00:00<00:00, 157.80 examples/s]\n",
      "Map (num_proc=2): 100%|██████████| 15/15 [00:00<00:00, 30.96 examples/s]\n",
      "/workspace/llm-fine-tuning/venv/lib/python3.10/site-packages/accelerate/accelerator.py:437: FutureWarning: Passing the following arguments to `Accelerator` is deprecated and will be removed in version 1.0 of Accelerate: dict_keys(['dispatch_batches', 'split_batches', 'even_batches', 'use_seedable_sampler']). Please pass an `accelerate.DataLoaderConfiguration` instead: \n",
      "dataloader_config = DataLoaderConfiguration(dispatch_batches=None, split_batches=False, even_batches=True, use_seedable_sampler=True)\n",
      "  warnings.warn(\n",
      "Detected kernel version 5.4.0, which is below the recommended minimum of 5.5.0; this can cause the process to hang. It is recommended to upgrade the kernel to the minimum version or higher.\n",
      "==((====))==  Unsloth - 2x faster free finetuning | Num GPUs = 1\n",
      "   \\\\   /|    Num examples = 84 | Num Epochs = 2\n",
      "O^O/ \\_/ \\    Batch size per device = 2 | Gradient Accumulation steps = 4\n",
      "\\        /    Total batch size = 8 | Total steps = 20\n",
      " \"-____-\"     Number of trainable parameters = 41,943,040\n"
     ]
    },
    {
     "data": {
      "text/html": [
       "Tracking run with wandb version 0.16.3"
      ],
      "text/plain": [
       "<IPython.core.display.HTML object>"
      ]
     },
     "metadata": {},
     "output_type": "display_data"
    },
    {
     "data": {
      "text/html": [
       "Run data is saved locally in <code>/workspace/llm-fine-tuning/wandb/run-20240222_163544-wkd588d0</code>"
      ],
      "text/plain": [
       "<IPython.core.display.HTML object>"
      ]
     },
     "metadata": {},
     "output_type": "display_data"
    },
    {
     "data": {
      "text/html": [
       "Syncing run <strong><a href='https://wandb.ai/goutham_city/huggingface/runs/wkd588d0' target=\"_blank\">abundant-rocket-5</a></strong> to <a href='https://wandb.ai/goutham_city/huggingface' target=\"_blank\">Weights & Biases</a> (<a href='https://wandb.me/run' target=\"_blank\">docs</a>)<br/>"
      ],
      "text/plain": [
       "<IPython.core.display.HTML object>"
      ]
     },
     "metadata": {},
     "output_type": "display_data"
    },
    {
     "data": {
      "text/html": [
       " View project at <a href='https://wandb.ai/goutham_city/huggingface' target=\"_blank\">https://wandb.ai/goutham_city/huggingface</a>"
      ],
      "text/plain": [
       "<IPython.core.display.HTML object>"
      ]
     },
     "metadata": {},
     "output_type": "display_data"
    },
    {
     "data": {
      "text/html": [
       " View run at <a href='https://wandb.ai/goutham_city/huggingface/runs/wkd588d0' target=\"_blank\">https://wandb.ai/goutham_city/huggingface/runs/wkd588d0</a>"
      ],
      "text/plain": [
       "<IPython.core.display.HTML object>"
      ]
     },
     "metadata": {},
     "output_type": "display_data"
    },
    {
     "data": {
      "text/html": [
       "\n",
       "    <div>\n",
       "      \n",
       "      <progress value='20' max='20' style='width:300px; height:20px; vertical-align: middle;'></progress>\n",
       "      [20/20 00:37, Epoch 1/2]\n",
       "    </div>\n",
       "    <table border=\"1\" class=\"dataframe\">\n",
       "  <thead>\n",
       " <tr style=\"text-align: left;\">\n",
       "      <th>Step</th>\n",
       "      <th>Training Loss</th>\n",
       "    </tr>\n",
       "  </thead>\n",
       "  <tbody>\n",
       "  </tbody>\n",
       "</table><p>"
      ],
      "text/plain": [
       "<IPython.core.display.HTML object>"
      ]
     },
     "metadata": {},
     "output_type": "display_data"
    }
   ],
   "source": [
    "llm_trainer.train()"
   ]
  },
  {
   "cell_type": "code",
   "execution_count": null,
   "metadata": {},
   "outputs": [],
   "source": []
  }
 ],
 "metadata": {
  "kernelspec": {
   "display_name": "venv",
   "language": "python",
   "name": "python3"
  },
  "language_info": {
   "codemirror_mode": {
    "name": "ipython",
    "version": 3
   },
   "file_extension": ".py",
   "mimetype": "text/x-python",
   "name": "python",
   "nbconvert_exporter": "python",
   "pygments_lexer": "ipython3",
   "version": "3.10.12"
  }
 },
 "nbformat": 4,
 "nbformat_minor": 2
}
