{
 "cells": [
  {
   "cell_type": "code",
   "execution_count": null,
   "id": "afc1bbb1-ca4e-4b9a-b824-967a62e9ae2b",
   "metadata": {},
   "outputs": [],
   "source": [
    "%pip install vllm datasets"
   ]
  },
  {
   "cell_type": "code",
   "execution_count": 2,
   "id": "ce0d8775-1f81-4da5-ad40-504540bac4f2",
   "metadata": {},
   "outputs": [],
   "source": [
    "from vllm import LLM, SamplingParams\n",
    "\n",
    "from datasets import load_from_disk"
   ]
  },
  {
   "cell_type": "code",
   "execution_count": 3,
   "id": "0218ce35-bf42-4b0f-b665-3dc1c77857cc",
   "metadata": {},
   "outputs": [],
   "source": [
    "sampling_params = SamplingParams(max_tokens=40)"
   ]
  },
  {
   "cell_type": "code",
   "execution_count": 8,
   "id": "5528ab0b-3c58-47ed-b166-5c865ef8dbe0",
   "metadata": {},
   "outputs": [],
   "source": [
    "\n",
    "\n",
    "dataset_path = './Cosmetics_dataset_0.8/'\n",
    "dataset = load_from_disk(dataset_path)\n",
    "\n",
    "\n",
    "model_name = \"Cosmetics_Expert_LLM_16bit_2024-03-22_160457\"\n"
   ]
  },
  {
   "cell_type": "code",
   "execution_count": null,
   "id": "6f5054c0-a6af-4ca9-9392-0eb6bb3d0452",
   "metadata": {},
   "outputs": [],
   "source": [
    "llm = LLM(model=f\"{model_name}/\", max_model_len=512)"
   ]
  },
  {
   "cell_type": "code",
   "execution_count": null,
   "id": "300f4271-a5a8-49b9-9b91-0110046b2057",
   "metadata": {},
   "outputs": [],
   "source": [
    "outputs = llm.generate([p['text'] for p in dataset['eval']], sampling_params)"
   ]
  },
  {
   "cell_type": "code",
   "execution_count": null,
   "metadata": {},
   "outputs": [],
   "source": [
    "with open(\"Cosmetics_output_16bit_0.8split.txt\",\"w\") as f:\n",
    "    for output in outputs:\n",
    "        prompt = output.prompt\n",
    "        generated_text = output.outputs[0].text\n",
    "        f.write(f\"Prompt: {prompt!r}, Generated text: {generated_text!r}\\n\")"
   ]
  }
 ],
 "metadata": {
  "kernelspec": {
   "display_name": "Python 3 (ipykernel)",
   "language": "python",
   "name": "python3"
  },
  "language_info": {
   "codemirror_mode": {
    "name": "ipython",
    "version": 3
   },
   "file_extension": ".py",
   "mimetype": "text/x-python",
   "name": "python",
   "nbconvert_exporter": "python",
   "pygments_lexer": "ipython3",
   "version": "3.10.12"
  }
 },
 "nbformat": 4,
 "nbformat_minor": 5
}
